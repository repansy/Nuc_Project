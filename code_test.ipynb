{
 "cells": [
  {
   "cell_type": "code",
   "execution_count": 1,
   "metadata": {},
   "outputs": [],
   "source": [
    "import torch\n",
    "from utils.NoiseGenerator import NoiseGenerator\n",
    "img = torch.zeros([1, 1, 40, 40])\n",
    "noise = NoiseGenerator(img, 25).stripe_noise(True, 'col', 0.85)\n",
    "# print(noise)"
   ]
  },
  {
   "cell_type": "code",
   "execution_count": 3,
   "metadata": {},
   "outputs": [
    {
     "name": "stdout",
     "output_type": "stream",
     "text": [
      "torch.Size([1, 64, 40, 40])\n",
      "torch.Size([1, 64, 40, 40])\n",
      "torch.Size([1, 1, 40, 40])\n",
      "torch.Size([1, 1, 20, 20])\n"
     ]
    }
   ],
   "source": [
    "import torch\n",
    "import torch.nn as nn\n",
    "# here i want to use conv model 2\n",
    "channels = 1\n",
    "features = 64\n",
    "kernel_size = 3\n",
    "padding = 1\n",
    "\n",
    "img = torch.zeros([1, 64, 40, 40])\n",
    "\n",
    "# 空洞卷积\n",
    "a = nn.Conv2d(in_channels=channels, out_channels=features, kernel_size=kernel_size, padding=2, bias=False, dilation=2)\n",
    "# 标准卷积\n",
    "b = nn.Conv2d(in_channels=channels, out_channels=features, kernel_size=kernel_size, padding=padding, bias=False)\n",
    "# 采样卷积\n",
    "c = nn.PixelShuffle(1)  \n",
    "d = nn.MaxPool2d(2, (2,2))\n",
    "\n",
    "out_1 = a(img)\n",
    "out_2 = b(img)\n",
    "out_3 = c(img)\n",
    "out_4 = d(img)\n",
    "\n",
    "print(out_1.shape)\n",
    "print(out_2.shape)\n",
    "print(out_3.shape)\n",
    "print(out_4.shape)"
   ]
  },
  {
   "cell_type": "code",
   "execution_count": 9,
   "metadata": {},
   "outputs": [
    {
     "name": "stdout",
     "output_type": "stream",
     "text": [
      "torch.Size([1, 4, 63, 64])\n"
     ]
    }
   ],
   "source": [
    "import torch\n",
    "import torch.nn as nn\n",
    "max_p = nn.AvgPool2d(2, stride=(1,1))\n",
    "pixel_shuffle = nn.PixelShuffle(2)\n",
    "input = torch.randn(1, 4, 64, 64)\n",
    "ful = nn.Linear(in_features = 63, out_features = 256, bias=False)\n",
    "mmd = nn.Linear(in_features = 256, out_features = 64, bias=False)\n",
    "output = mmd(ful(max_p(input)))\n",
    "print(output.size())"
   ]
  },
  {
   "cell_type": "code",
   "execution_count": 14,
   "metadata": {},
   "outputs": [
    {
     "name": "stdout",
     "output_type": "stream",
     "text": [
      "torch.Size([1, 64, 40, 20])\n"
     ]
    }
   ],
   "source": [
    "a = torch.randn(1, 64, 40, 40)\n",
    "b = torch.randn(1, 64, 40, 40)\n",
    "c = torch.randn(2, 1, 40, 40)\n",
    "d = nn.AvgPool2d(1, stride=(1, 2))\n",
    "e = d(a)\n",
    "print(e.size())"
   ]
  }
 ],
 "metadata": {
  "kernelspec": {
   "display_name": "py38_torch113",
   "language": "python",
   "name": "python3"
  },
  "language_info": {
   "codemirror_mode": {
    "name": "ipython",
    "version": 3
   },
   "file_extension": ".py",
   "mimetype": "text/x-python",
   "name": "python",
   "nbconvert_exporter": "python",
   "pygments_lexer": "ipython3",
   "version": "3.8.19"
  }
 },
 "nbformat": 4,
 "nbformat_minor": 2
}
